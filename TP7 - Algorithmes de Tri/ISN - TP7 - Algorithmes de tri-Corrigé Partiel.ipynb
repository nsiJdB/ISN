{
 "cells": [
  {
   "cell_type": "markdown",
   "metadata": {},
   "source": [
    "# ISN - TP N°7 - Algorithmes de Tris\n"
   ]
  },
  {
   "cell_type": "markdown",
   "metadata": {},
   "source": [
    "<center><b>Le tri est une activité fondamentale et omniprésente de l'informatique.</b></center>\n",
    "\n",
    "<img src='tri.jpg' width=200> \n",
    "\n",
    "* On l'utilise régulièrement, par exemple :\n",
    "   * Lorsque l'on consulte sur Internet des listes de produits que l'on souhaite afficher par prix croissant ou décroissant, par popularité...\n",
    "   * Lorsque dans un tableur on souhaite trier des noms par ordre alphabétique\n",
    "   * Lorsque l'on affiche ses photos par date\n",
    "\n",
    "\n",
    "* Cela permet d'étudier des concepts algorithmiques puissants et efficaces\n",
    "\n",
    "\n",
    "* <b>Pour simplifier, on cherche ici à trier des liste d'entiers dans l'ordre croissant. Le but d’un algorithme de tri est ainsi de créer une nouvelle liste, ou\n",
    "de modifier la liste initiale, de manière à ce qu’elle contienne les mêmes\n",
    "nombres que la liste de départ, mais que ces éléments soient ordonnés.</b>"
   ]
  },
  {
   "cell_type": "markdown",
   "metadata": {},
   "source": [
    "<div class=\"alert alert-info\">\n",
    "    \n",
    "<strong class='fa fa-cogs' style=\"color: darkorange\"> Question préliminaire </strong>\n",
    "\n",
    "Ecrire une fonction `liste_alea` qui reçoit en paramètre un entier `n` et qui retourne une liste de taille `n` d'entiers aléatoires compris entre -32 et 32.\n",
    "</div>"
   ]
  },
  {
   "cell_type": "code",
   "execution_count": null,
   "metadata": {},
   "outputs": [],
   "source": [
    "import random\n",
    "\n",
    "def liste_alea(n):\n",
    "    liste = []\n",
    "    for i in range(n):\n",
    "        liste.append(random.randint(-32, 32))\n",
    "    return liste\n",
    "\n",
    "\n",
    "\"\"\"\n",
    "def liste_alea(n):\n",
    "    return [random.randint(-32, 32) for _ in range(n)] \n",
    "\"\"\"\n",
    "liste_alea(5)"
   ]
  },
  {
   "cell_type": "markdown",
   "metadata": {},
   "source": [
    "De quoi dispose un ordinateur pour trier ?\n",
    "\n",
    "* Une fonction de comparaison ( $<$ , $>$ ), pour comparer deux valeurs.\n",
    "* Des zones de stockage pour mémoriser des emplacements (à l'aide de l'index des éléments d'une liste), déplacer des valeurs...\n",
    "* Il existe des dizaines d'algorithmes de tri, nous allons en étudier 2 cette année : \n",
    "  * **Le tri par sélection.**\n",
    "  * **Le tri par insertion.**"
   ]
  },
  {
   "cell_type": "markdown",
   "metadata": {},
   "source": [
    "## 1. Tri par sélection"
   ]
  },
  {
   "cell_type": "markdown",
   "metadata": {},
   "source": [
    "<img src='Selection-Sort.gif' width='400'>\n",
    "\n",
    "### 1.a) Présentation \n",
    "* On commence par chercher, parmi les nombres à trier, un élément plus petit que tous les autres. Cet élément sera le premier de la liste triée. \n",
    "* On cherche ensuite, parmi ceux qui restent, un élément plus petit que tous les autres, qui sera le deuxième du tableau trié\n",
    "* On recommence pour trouver le troisième élément trié et ainsi de suite jusqu'à ce que toute la liste soit triée.\n",
    "\n",
    "\n",
    "#### Exemple : \n",
    "\n",
    "On cherche à trier la liste suivante : `[29, -6, 12, -11, 10]`\n",
    "\n",
    "* Le plus petit élement est $-11$, on le place au premier index 0\n",
    "* Que fait-on du $29$ ? Il prend la place de $-11$, la liste devient donc : `[-11,-6,12,29,10]`\n",
    "* Le plus petit des élements restants à trier est $-6$, il est déjà bien placé à l'index 1.\n",
    "* Le plus petit des élements restants à trier est $10$, on le place en troisième position (index 2).\n",
    "* Que fait-on du $12$ ? Il prend la place de $10$, la liste devient donc : `[-11,-6,10,29,12]`\n",
    "* Le plus petit des élements restants à trier est $12$, on le place en quatrième position (index 3).\n",
    "* Que fait-on du $29$ ? Il prend la place de $12$, la liste devient donc : `[-11,-6,10,12,29]`\n",
    "* Le dernier élément est nécéssairement le plus grand, la liste est triée."
   ]
  },
  {
   "cell_type": "markdown",
   "metadata": {},
   "source": [
    "<div class=\"alert alert-info\">\n",
    "    \n",
    "<strong class='fa fa-cogs' style=\"color: darkorange\"> Exercice 1 </strong>\n",
    "\n",
    "En indiquant les listes intermédiaires, trier la liste par sélection les listes \n",
    "* `liste1 = [5, -27, -14, 10, 7]`\n",
    "* `liste2 = [30, 24, -7, -19, 26, 21, -18]`\n",
    "</div>"
   ]
  },
  {
   "cell_type": "markdown",
   "metadata": {},
   "source": [
    "1. Pour la liste 1:\n",
    "    * `[5, -27, -14, 10, 7]`\n",
    "    * `[-27, 5, -14, 10, 7]`\n",
    "    * `[-27, -14, 5, 10, 7]`\n",
    "    * `[-27, -14, 5, 10, 7]`\n",
    "    * `[-27, -14, 5, 7, 10]`\n",
    " \n",
    "\n",
    "2. Pour la liste 2:\n",
    "   * `[30, 24, -7, -19, 26, 21, -18]`\n",
    "   * `[-19, 24, -7, 30, 26, 21, -18]`\n",
    "   * `[-19, -18, -7, 30, 26, 21, 24]`\n",
    "   * `[-19, -18, -7, 21, 26, 30, 24]`\n",
    "   * `[-19, -18, -7, 21, 24, 30, 26]`\n",
    "   * `[-19, -18, -7, 21, 24, 26, 30]`"
   ]
  },
  {
   "cell_type": "markdown",
   "metadata": {},
   "source": [
    "### 1.b) Programmation de l'algorithme"
   ]
  },
  {
   "cell_type": "markdown",
   "metadata": {},
   "source": [
    "#### Recherche du minimum et échange\n",
    "La première étape de l'algorithme est de rechercher le minimum de la liste et d'échanger sa place avec le premier élément: "
   ]
  },
  {
   "cell_type": "markdown",
   "metadata": {},
   "source": [
    "$(1)\\; L \\; est\\;une\\;liste\\\\\n",
    "(2)\\; indexmin \\leftarrow 0\\\\\n",
    "(3)\\; Pour\\; j\\; de \\;1\\;à \\; index\\;du\\;dernier\\;élément\\;de\\;L \\\\\n",
    "(4)\\; \\; \\; \\; \\;  Si\\; L[j]<L[indexmin] \\\\\n",
    "(5) \\; \\; \\; \\; \\; \\; \\; \\;\\;indexmin \\leftarrow j \\\\\n",
    "(6)\\; Echange\\;des\\;positions\\;de\\;L[0]\\;et\\;L[indexmin]$\n",
    "\n"
   ]
  },
  {
   "cell_type": "markdown",
   "metadata": {},
   "source": [
    "<div class=\"alert alert-info\">\n",
    "    \n",
    "<strong class='fa fa-cogs' style=\"color: darkorange\"> Premiers pas vers la conception de l'algorithme </strong>\n",
    "\n",
    "1. Que représente la variable `indexmin` ?\n",
    "2. Expliquer la ligne 6 de l'algorithme.\n",
    "3. En remplaçant les commentaires, programmer cet algorithme.\n",
    "</div>"
   ]
  },
  {
   "cell_type": "markdown",
   "metadata": {},
   "source": [
    "*Saisir ici réponse Q1*\n",
    "\n",
    "A la fin de l'algorithme, la variable `indexmin` représente l'index du plus petit élément de la liste."
   ]
  },
  {
   "cell_type": "markdown",
   "metadata": {},
   "source": [
    "*Saisir ici réponse Q2*\n",
    "\n",
    "A cette ligne, on échange le minimum de la liste avec le premier élément."
   ]
  },
  {
   "cell_type": "code",
   "execution_count": 1,
   "metadata": {},
   "outputs": [
    {
     "ename": "NameError",
     "evalue": "name 'liste_alea' is not defined",
     "output_type": "error",
     "traceback": [
      "\u001b[1;31m---------------------------------------------------------------------------\u001b[0m",
      "\u001b[1;31mNameError\u001b[0m                                 Traceback (most recent call last)",
      "\u001b[1;32m<ipython-input-1-56cb305e632b>\u001b[0m in \u001b[0;36m<module>\u001b[1;34m\u001b[0m\n\u001b[0;32m      1\u001b[0m \u001b[1;31m# Générer ici une liste L aléatoire de 5 entiers compris entre -32 et 32\u001b[0m\u001b[1;33m\u001b[0m\u001b[1;33m\u001b[0m\u001b[1;33m\u001b[0m\u001b[0m\n\u001b[1;32m----> 2\u001b[1;33m \u001b[0mL\u001b[0m \u001b[1;33m=\u001b[0m \u001b[0mliste_alea\u001b[0m\u001b[1;33m(\u001b[0m\u001b[1;36m5\u001b[0m\u001b[1;33m)\u001b[0m\u001b[1;33m\u001b[0m\u001b[1;33m\u001b[0m\u001b[0m\n\u001b[0m\u001b[0;32m      3\u001b[0m \u001b[0mprint\u001b[0m\u001b[1;33m(\u001b[0m\u001b[0mL\u001b[0m\u001b[1;33m)\u001b[0m\u001b[1;33m\u001b[0m\u001b[1;33m\u001b[0m\u001b[0m\n\u001b[0;32m      4\u001b[0m \u001b[1;31m# Afficher l'état initial de la liste\u001b[0m\u001b[1;33m\u001b[0m\u001b[1;33m\u001b[0m\u001b[1;33m\u001b[0m\u001b[0m\n\u001b[0;32m      5\u001b[0m \u001b[1;33m\u001b[0m\u001b[0m\n",
      "\u001b[1;31mNameError\u001b[0m: name 'liste_alea' is not defined"
     ]
    }
   ],
   "source": [
    "# Générer ici une liste L aléatoire de 5 entiers compris entre -32 et 32\n",
    "L = liste_alea(5)\n",
    "print(L)\n",
    "# Afficher l'état initial de la iste\n",
    "\n",
    "indexmin = 0\n",
    "for j in range(1, len(L)):\n",
    "    if L[j] < L[indexmin]:\n",
    "        indexmin = j\n",
    "L[0], L[indexmin] = L[indexmin], L[0]\n",
    "\n",
    "print(L)\n",
    "\n",
    "# Afficher l'état final de la liste"
   ]
  },
  {
   "cell_type": "markdown",
   "metadata": {},
   "source": [
    "<div class=\"alert alert-info\">\n",
    "    \n",
    "<strong class='fa fa-cogs' style=\"color: darkorange\"> Deuxième pas vers l'algorithme </strong>\n",
    "\n",
    "On suppose que le minimum de la liste est désormais le premier élément. L'étape suivante est d'identifier le plus petit élément parmi ceux restant à trier et de le placer en deuxième position.\n",
    "\n",
    "1. Recopier et modifier l'algorithme précédent en ce sens. On utilisera la liste`[-29, 24, 31, -15, 8]`. l'instruction`print(L)` doit renvoyer `[-29, -15, 31, 24, 8]`.\n",
    "2. Quel est le rôle de l'algorithme conçu ? ?\n",
    "3. Que doit-on modifier pour trouver le troisième élement de la liste triée ?\n",
    "</div>"
   ]
  },
  {
   "cell_type": "code",
   "execution_count": 10,
   "metadata": {},
   "outputs": [
    {
     "name": "stdout",
     "output_type": "stream",
     "text": [
      "[-29, 24, 31, -15, 8]\n"
     ]
    }
   ],
   "source": [
    "# Question 1\n",
    "L=[-29, 24, 31, -15, 8]\n",
    "\n",
    "indexmin = 1\n",
    "for j in range(2, len(L)):\n",
    "    if L[j] < L[indexmin]:\n",
    "        indexmin = j\n",
    "L[1], L[indexmin] = L[indexmin], L[1]\n",
    "\n",
    "print(L)\n",
    "\n"
   ]
  },
  {
   "cell_type": "markdown",
   "metadata": {},
   "source": [
    "*Saisir ici la réponse à Q2*\n",
    "\n",
    "L'agorithme cherche le plus petit element de la liste `L[1:len(l)-1]` et place le plus petit elt en première position càd à l'indice 1."
   ]
  },
  {
   "cell_type": "markdown",
   "metadata": {},
   "source": [
    "*Saisir ici la réponse à Q3*\n",
    "\n",
    " Pour trouver le troisième élément trié , il faut :\n",
    "   * Initialiser la variable `indexmin` à 2\n",
    "   * Parcourir la liste à partir de  l'index 3 pour trouver le plus petit des éléments non triés \n",
    "   * Echanger `L[2]` avec le minimum trouvé"
   ]
  },
  {
   "cell_type": "markdown",
   "metadata": {},
   "source": [
    "#### Algorithme du tri par sélection"
   ]
  },
  {
   "cell_type": "markdown",
   "metadata": {},
   "source": [
    "<div class=\"alert alert-info\">\n",
    "    \n",
    "<strong class='fa fa-cogs' style=\"color: darkorange\"> Ca y est faisons l'algorithme de tri ! </strong>\n",
    "\n",
    "La fonction `tri_select(tab)` prend en paramètre une liste `tab` d'entiers et doit renvoyer cette liste triée par sélection.\n",
    "En vous aidant des résultats précédents, compléter cette fonction en remplaçant les `?`.\n",
    "\n",
    "Proposer des jeux de tests et exécuter la fonction pour une liste aléatoire d'entiers.</div>"
   ]
  },
  {
   "cell_type": "code",
   "execution_count": null,
   "metadata": {},
   "outputs": [],
   "source": [
    "#Algorithme de tri par sélection\n",
    "def tri_select(tab):\n",
    "    for i in ?:\n",
    "        imin = ?\n",
    "        for j in range(?, len(tab)):\n",
    "            if tab[j] < tab[imin]:\n",
    "                imin = j\n",
    "                \n",
    "        tab[?], tab[imin] = tab[imin], tab[?]\n",
    "    \n",
    "    return tab"
   ]
  },
  {
   "cell_type": "markdown",
   "metadata": {},
   "source": [
    "# 2. Tri par insertion"
   ]
  },
  {
   "cell_type": "markdown",
   "metadata": {},
   "source": [
    "<img align='center' src='Insertion-Sort.gif' width=400>\n",
    "\n",
    "### Présentation\n",
    "\n",
    "* C'est celui que l'on utilise intuitivement lorsque l'on trie des cartes à jouer dans sa main.\n",
    "* Dans une liste, on commence par trier les deux premiers élements en insérant éventuellement le deuxième élément en première position.\n",
    "* On insère tour à tour chaque élément non trié à sa place dans l'ensemble déjà trié précédemment.\n",
    "\n",
    "#### Exemple : \n",
    "\n",
    "On cherche à trier la liste suivante : `[29, -6, 12, -11, 10]`.\n",
    "\n",
    "* On insère $-6$ en première position `[ -6, 29, 12, -11, 10]`\n",
    "* On insère $12$ en deuxième position `[ -6, 12, 29, -11, 10]`\n",
    "* On insère $-11$ en première position `[ -11, -6, 12, 29, 10]`\n",
    "* On insère $10$ en troisième position `[ -11, -6, 10, 12, 29]`"
   ]
  },
  {
   "cell_type": "markdown",
   "metadata": {},
   "source": [
    "<div class=\"alert alert-info\">\n",
    "    \n",
    "<strong class='fa fa-cogs' style=\"color: darkorange\"> Exercice 2 </strong>\n",
    "\n",
    "En indiquant les listes intermédiaires, trier la liste par sélection les listes \n",
    "* `liste1 = [5, -27, -14, 10, 7]`\n",
    "* `liste2 = [30, 24, -7, -19, 26, 21, -18]`\n",
    "</div>"
   ]
  },
  {
   "cell_type": "markdown",
   "metadata": {},
   "source": [
    "1. Pour la liste 1:\n",
    "    *   \n",
    "    *  \n",
    "    *  \n",
    " \n",
    "\n",
    "2. Pour la liste 2:\n",
    "    *   \n",
    "    *  \n",
    "    *  \n",
    "    *  \n",
    "    *  \n",
    "    *  "
   ]
  },
  {
   "cell_type": "markdown",
   "metadata": {},
   "source": [
    "### Programmation de l'algorithme"
   ]
  },
  {
   "cell_type": "markdown",
   "metadata": {},
   "source": [
    "#### Insérer l'élément d'index `i`\n",
    " \n",
    "* Sauvegarder `L[i]` dans une variable.\n",
    "* Parcourir la partie de la liste déjà triée en commençant à l'index `i-1` jusqu'à trouver la position d'insertion en décalant dans le même temps les éléments pour pouvoir effectuer l'insertion.\n",
    "* Insérer l'élément."
   ]
  },
  {
   "cell_type": "markdown",
   "metadata": {},
   "source": [
    "<div class=\"alert alert-info\">\n",
    "    \n",
    "<strong class='fa fa-cogs' style=\"color: darkorange\"> Premiers pas vers la conception de l'algorithme </strong>\n",
    "\n",
    "On considère la liste `L = [2, 15, 23, 10, 5, 1]`. Cette liste est triée jusqu'à l'index $2$.  En remplaçant les `?`, compléter le programme python qui doit permettre d'insérer l'élément d'index $3$ à sa place.\n",
    "\n",
    "L'instruction `print(L)` doit renvoyer `L = [2, 10, 15, 23, 5, 1]`.\n",
    "</div>"
   ]
  },
  {
   "cell_type": "code",
   "execution_count": null,
   "metadata": {},
   "outputs": [],
   "source": [
    "L = [2, 15, 23, 10, 5, 1]\n",
    "\n",
    "temp = L[3]\n",
    "j = ?\n",
    "while L[j] > temp:\n",
    "    L[?] = L[?]\n",
    "    j = j - 1\n",
    "L[j + 1] = ?\n",
    "\n",
    "print(L)"
   ]
  },
  {
   "cell_type": "markdown",
   "metadata": {},
   "source": [
    "<div class=\"alert alert-info\">\n",
    "    \n",
    "<strong class='fa fa-cogs' style=\"color: darkorange\"> Deuxième pas vers l'algorithme </strong>\n",
    "\n",
    "1. On considère la liste `L = [2, 10, 15, 23, 5, 1]`. Cette liste est triée jusqu'à l'index $3$.  Recopier et modifier le programme python de l'exercice précédent pour permettre d'insérer l'élément d'index $4$ à sa place.\n",
    "L'instruction `print(L)` doit renvoyer `L = [2, 5, 10, 15, 23, 1]`\n",
    "2. On considère la liste `L = [2, 5, 10, 15, 23, 1]`. Le programme ci-dessous doit insérer le dernier élément à sa place,ici au début de la liste, mais il renvoie une erreur. Le modifier(on pourra faire afficher les différentes valeurs prises par `j` pour trouver l'erreur). L'instruction `print(L)` doit renvoyer `L = [1, 2, 5, 10, 15, 23]`.\n",
    "</div>"
   ]
  },
  {
   "cell_type": "code",
   "execution_count": 23,
   "metadata": {},
   "outputs": [],
   "source": [
    "# Algorithme pour la question 1"
   ]
  },
  {
   "cell_type": "code",
   "execution_count": 1,
   "metadata": {},
   "outputs": [
    {
     "ename": "IndexError",
     "evalue": "list index out of range",
     "output_type": "error",
     "traceback": [
      "\u001b[1;31m---------------------------------------------------------------------------\u001b[0m",
      "\u001b[1;31mIndexError\u001b[0m                                Traceback (most recent call last)",
      "\u001b[1;32m<ipython-input-1-5f66b4e82c0f>\u001b[0m in \u001b[0;36m<module>\u001b[1;34m\u001b[0m\n\u001b[0;32m      4\u001b[0m \u001b[0mtemp\u001b[0m \u001b[1;33m=\u001b[0m \u001b[0mL\u001b[0m\u001b[1;33m[\u001b[0m\u001b[1;36m5\u001b[0m\u001b[1;33m]\u001b[0m\u001b[1;33m\u001b[0m\u001b[1;33m\u001b[0m\u001b[0m\n\u001b[0;32m      5\u001b[0m \u001b[0mj\u001b[0m \u001b[1;33m=\u001b[0m \u001b[1;36m4\u001b[0m\u001b[1;33m\u001b[0m\u001b[1;33m\u001b[0m\u001b[0m\n\u001b[1;32m----> 6\u001b[1;33m \u001b[1;32mwhile\u001b[0m \u001b[0mL\u001b[0m\u001b[1;33m[\u001b[0m\u001b[0mj\u001b[0m\u001b[1;33m]\u001b[0m \u001b[1;33m>\u001b[0m \u001b[0mtemp\u001b[0m\u001b[1;33m:\u001b[0m\u001b[1;33m\u001b[0m\u001b[1;33m\u001b[0m\u001b[0m\n\u001b[0m\u001b[0;32m      7\u001b[0m     \u001b[0mL\u001b[0m\u001b[1;33m[\u001b[0m\u001b[0mj\u001b[0m\u001b[1;33m+\u001b[0m\u001b[1;36m1\u001b[0m\u001b[1;33m]\u001b[0m \u001b[1;33m=\u001b[0m \u001b[0mL\u001b[0m\u001b[1;33m[\u001b[0m\u001b[0mj\u001b[0m\u001b[1;33m]\u001b[0m\u001b[1;33m\u001b[0m\u001b[1;33m\u001b[0m\u001b[0m\n\u001b[0;32m      8\u001b[0m     \u001b[0mj\u001b[0m \u001b[1;33m=\u001b[0m \u001b[0mj\u001b[0m\u001b[1;33m-\u001b[0m\u001b[1;36m1\u001b[0m\u001b[1;33m\u001b[0m\u001b[1;33m\u001b[0m\u001b[0m\n",
      "\u001b[1;31mIndexError\u001b[0m: list index out of range"
     ]
    }
   ],
   "source": [
    "# Algorithme pour la question 2\n",
    "L=[2, 5, 10, 15, 23, 1]\n",
    "\n",
    "temp = L[5]\n",
    "j = 4\n",
    "while L[j] > temp:\n",
    "    L[j+1] = L[j]\n",
    "    j = j-1\n",
    "L[j+1] = temp\n",
    "\n",
    "print(L)"
   ]
  },
  {
   "cell_type": "markdown",
   "metadata": {},
   "source": [
    "<div class=\"alert alert-info\">\n",
    "    \n",
    "<strong class='fa fa-cogs' style=\"color: darkorange\"> Ca y est faisons l'algorithme de tri ! </strong>\n",
    "\n",
    "La fonction `tri_insert(tab)` prend en paramètre une liste `tab` d'entiers et doit renvoyer cette liste triée par sélection.\n",
    "En vous aidant des résultats précédents, compléter cette fonction en remplaçant les `?`.\n",
    "\n",
    "Proposer des jeux de tests et exécuter la fonction pour une liste aléatoire d'entiers.</div>"
   ]
  },
  {
   "cell_type": "code",
   "execution_count": null,
   "metadata": {},
   "outputs": [],
   "source": [
    "#Algorithme du tri par insertion\n",
    "def tri_insert(tab):\n",
    "    for i  in range(?) :\n",
    "        tmp = tab[?]\n",
    "        j = ?\n",
    "        while j >= 0 and tab[j] > tmp:\n",
    "            tab[j+1] = tab[j]\n",
    "            j = j - 1\n",
    "        tab[j+1] = tmp\n",
    "    return tab\n",
    "\n",
    "L=[randint(-32,32) for i in range(10)]\n",
    "print (L)\n",
    "print(tri_insert(L))"
   ]
  },
  {
   "cell_type": "markdown",
   "metadata": {},
   "source": [
    "## 3. Qui choisir ?"
   ]
  },
  {
   "cell_type": "markdown",
   "metadata": {},
   "source": [
    "### 3.1 Comparaison des temps d'exécution"
   ]
  },
  {
   "cell_type": "markdown",
   "metadata": {},
   "source": [
    "<div class=\"alert alert-info\">\n",
    "    \n",
    "<strong class='fa fa-cogs' style=\"color: darkorange\"> Mesurer le temps d'exécution </strong>\n",
    "\n",
    "1. Ecrire les fonctions `tps_insertion` et `tps_selection` qui reçoivent en paramètre une liste et qui renvoie respectivement le temps pour trier la liste par insertion ou par sélection.<br/>\n",
    "L'instruction `time.time()` permet de mesurer le temps écoulé, en secondes, écouté depuis le 01/01/1970 à 00h00.\n",
    "\n",
    "2. Tester ensuite les fonctions précédentes pour des listes aléatoires de tailles 10, 100, 1000 et 10000\n",
    "</div>"
   ]
  },
  {
   "cell_type": "code",
   "execution_count": 4,
   "metadata": {},
   "outputs": [],
   "source": [
    "import time\n",
    "\n",
    "def tps_insertion(tab):\n",
    "    \"\"\" test de durée d’exécution \"\"\"\n",
    "    pass\n",
    "\n",
    "def tps_selection(tab):\n",
    "    \"\"\" test de durée d’exécution \"\"\" \n",
    "    pass"
   ]
  },
  {
   "cell_type": "code",
   "execution_count": 5,
   "metadata": {},
   "outputs": [],
   "source": [
    "# tester ici les fonctions précédentes pour des listes aléatoires de tailles 10, 100, 1000 et 10000"
   ]
  },
  {
   "cell_type": "markdown",
   "metadata": {},
   "source": [
    "### 3.2 Comparaisons pour un taille de liste de donnée\n"
   ]
  },
  {
   "cell_type": "markdown",
   "metadata": {},
   "source": [
    "Pour comparer sur plusieurs listes, on allons répéter les expériences et représenter graphiquement les temps d'exécution.\n",
    "\n",
    "On donne le script ci-dessous qui permet de tracer un nuage de points où l'abscisse du point représente le numéro de l'exécution et l'ordonnée le temps d'exécution en secondes."
   ]
  },
  {
   "cell_type": "code",
   "execution_count": null,
   "metadata": {},
   "outputs": [],
   "source": [
    "x, y =[], []\n",
    "for i in range(0, 10):\n",
    "    # ici on repète 10 l'expérience pour une liste aléatoire de taille 100\n",
    "    liste = liste_alea(100)\n",
    "    t_select = test_select(liste)\n",
    "    x.append(i)\n",
    "    y.append(t_select)    \n",
    "    \n",
    "import matplotlib.pyplot as plt\n",
    "# permet d'importer la bibliothèque pour les représentations graphiques.\n",
    "\n",
    "fig = plt.figure(figsize=(8, 8))\n",
    "plt.plot(x,y,marker='o',label='Tri par sélection')\n",
    "plt.xlabel(\"nombre de d'essais\")\n",
    "plt.ylabel('temps de calcul en secondes')\n",
    "plt.legend(loc='upper left')\n",
    "plt.grid()\n",
    "plt.show()"
   ]
  },
  {
   "cell_type": "markdown",
   "metadata": {},
   "source": [
    "<div class=\"alert alert-info\">\n",
    "    \n",
    "<strong class='fa fa-cogs' style=\"color: darkorange\"> Observations graphiques </strong>\n",
    "\n",
    "1. Représenter sur un même graphique le temps d'exécution de l'algorithme de tri par sélection et de l'algorithme de tri par insertion pour une liste de taille 10. Renouveller 50 fois l'expérience.\n",
    "2. Même question pour des listes de tailles 100.\n",
    "3. Même question pour des listes de tailles 1000.\n",
    "4. Même question pour des listes de tailles 10000 (seulement 10 répétitions).\n",
    "5. Renouveller l'expérience pour des listes triées. Pour gagner du temps d'exécution, on triera les listes avec la fonction `sorted`.<br/>\n",
    "**Cela peut paraître paradoxal de trier une liste triée mais au moment d'aborder un tri de liste, on ne sait pas si la liste est triée ...** \n",
    "\n",
    "</div>"
   ]
  },
  {
   "cell_type": "code",
   "execution_count": 1,
   "metadata": {},
   "outputs": [],
   "source": [
    "# Exécution pour tri de listes de taille 10."
   ]
  },
  {
   "cell_type": "code",
   "execution_count": 2,
   "metadata": {},
   "outputs": [],
   "source": [
    "# Exécution pour tri de listes de taille 100."
   ]
  },
  {
   "cell_type": "code",
   "execution_count": 3,
   "metadata": {},
   "outputs": [],
   "source": [
    "# Exécution pour tri de listes de taille 1000."
   ]
  },
  {
   "cell_type": "code",
   "execution_count": 4,
   "metadata": {},
   "outputs": [],
   "source": [
    "# Exécution pour tri de listes de taille 10000."
   ]
  },
  {
   "cell_type": "code",
   "execution_count": 5,
   "metadata": {},
   "outputs": [],
   "source": [
    "# Cas des listes triées"
   ]
  },
  {
   "cell_type": "markdown",
   "metadata": {},
   "source": [
    "Tirer ci-dessous les conclusions des observations faites précédemment concernant les temps d'exécution des algorithmes des tri par sélection et par insertion :\n",
    "  * cas des listes non triées :\n",
    "  * cas des liste triées :"
   ]
  },
  {
   "cell_type": "markdown",
   "metadata": {},
   "source": [
    "<div class=\"alert alert-info\">\n",
    "    \n",
    "<strong class='fa fa-cogs' style=\"color: darkorange\"> Observations graphiques 2 </strong>\n",
    "\n",
    "Dans cet exercice, on se place dans le cas où on cherche à trier une liste triée.\n",
    "\n",
    "Sur un même graphique, représenter la représentation graphique du temps d'exécution du tri d'une liste triée en utilisant la méthode par sélection ou par insertion en fonction de la taille de la liste.\n",
    "</div>"
   ]
  },
  {
   "cell_type": "code",
   "execution_count": 8,
   "metadata": {},
   "outputs": [],
   "source": [
    "# Code à saisir"
   ]
  },
  {
   "cell_type": "markdown",
   "metadata": {},
   "source": [
    "*Interprétation*"
   ]
  },
  {
   "cell_type": "code",
   "execution_count": null,
   "metadata": {},
   "outputs": [],
   "source": []
  }
 ],
 "metadata": {
  "kernelspec": {
   "display_name": "Python 3",
   "language": "python",
   "name": "python3"
  },
  "language_info": {
   "codemirror_mode": {
    "name": "ipython",
    "version": 3
   },
   "file_extension": ".py",
   "mimetype": "text/x-python",
   "name": "python",
   "nbconvert_exporter": "python",
   "pygments_lexer": "ipython3",
   "version": "3.7.3"
  }
 },
 "nbformat": 4,
 "nbformat_minor": 2
}
